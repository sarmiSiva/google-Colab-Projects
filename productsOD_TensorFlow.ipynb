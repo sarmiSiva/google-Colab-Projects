{
  "nbformat": 4,
  "nbformat_minor": 0,
  "metadata": {
    "colab": {
      "name": "Welcome To Colaboratory",
      "provenance": [],
      "collapsed_sections": [],
      "toc_visible": true,
      "include_colab_link": true
    },
    "kernelspec": {
      "display_name": "Python 3",
      "name": "python3"
    },
    "accelerator": "GPU"
  },
  "cells": [
    {
      "cell_type": "markdown",
      "metadata": {
        "id": "view-in-github",
        "colab_type": "text"
      },
      "source": [
        "<a href=\"https://colab.research.google.com/github/sarmiSiva/1st-AI-Project/blob/main/productsOD_TensorFlow.ipynb\" target=\"_parent\"><img src=\"https://colab.research.google.com/assets/colab-badge.svg\" alt=\"Open In Colab\"/></a>"
      ]
    },
    {
      "cell_type": "markdown",
      "metadata": {
        "id": "4FfTn7RppFij"
      },
      "source": [
        "\"\"\"Install and import dependencies\"\"\"\n",
        "# Install Model maker"
      ]
    },
    {
      "cell_type": "code",
      "metadata": {
        "id": "V6hg9gfhpO3r"
      },
      "source": [
        "!pip install -q tflite-model-maker &> /dev/null"
      ],
      "execution_count": 3,
      "outputs": []
    },
    {
      "cell_type": "markdown",
      "metadata": {
        "id": "u3E4QgJTpffh"
      },
      "source": [
        "# Imports and check that we are using TF2.x"
      ]
    },
    {
      "cell_type": "code",
      "metadata": {
        "id": "uDvOR25pphdh"
      },
      "source": [
        "import numpy as np\n",
        "import os\n",
        "\n",
        "from tflite_model_maker import configs\n",
        "from tflite_model_maker import ExportFormat\n",
        "from tflite_model_maker import model_spec\n",
        "from tflite_model_maker import image_classifier\n",
        "from tflite_model_maker.image_classifier import DataLoader\n",
        "\n",
        "import tensorflow as tf\n",
        "assert tf.__version__.startswith('2')\n",
        "tf.get_logger().setLevel('ERROR')"
      ],
      "execution_count": 4,
      "outputs": []
    },
    {
      "cell_type": "markdown",
      "metadata": {
        "id": "BIA79svTqBmp"
      },
      "source": [
        "\n",
        "#Download and Prepare your Data below"
      ]
    },
    {
      "cell_type": "code",
      "metadata": {
        "colab": {
          "base_uri": "https://localhost:8080/"
        },
        "id": "djXi7LLRqGNR",
        "outputId": "0fda2df9-71bb-4cd0-e746-b3acf5a82242"
      },
      "source": [
        "data_path = tf.keras.utils.get_file(\n",
        "      'flower_photos',\n",
        "      'https://storage.googleapis.com/download.tensorflow.org/example_images/flower_photos.tgz',\n",
        "      untar=True)"
      ],
      "execution_count": 5,
      "outputs": [
        {
          "output_type": "stream",
          "text": [
            "Downloading data from https://storage.googleapis.com/download.tensorflow.org/example_images/flower_photos.tgz\n",
            "228818944/228813984 [==============================] - 2s 0us/step\n"
          ],
          "name": "stdout"
        }
      ]
    },
    {
      "cell_type": "code",
      "metadata": {
        "id": "K6tIGNSZqf_x"
      },
      "source": [
        "data = DataLoader.from_folder(data_path)\n",
        "train_data, test_data = data.split(0.9)"
      ],
      "execution_count": 6,
      "outputs": []
    },
    {
      "cell_type": "markdown",
      "metadata": {
        "id": "8snhRquqqofh"
      },
      "source": [
        "#Create the Image Classifier Model"
      ]
    },
    {
      "cell_type": "code",
      "metadata": {
        "colab": {
          "base_uri": "https://localhost:8080/"
        },
        "id": "d4ioq2YXqsFZ",
        "outputId": "d3f5ef8b-94c5-47ef-d564-49c48eb2a981"
      },
      "source": [
        "model = image_classifier.create(train_data)"
      ],
      "execution_count": 7,
      "outputs": [
        {
          "output_type": "stream",
          "text": [
            "Model: \"sequential\"\n",
            "_________________________________________________________________\n",
            "Layer (type)                 Output Shape              Param #   \n",
            "=================================================================\n",
            "hub_keras_layer_v1v2 (HubKer (None, 1280)              3413024   \n",
            "_________________________________________________________________\n",
            "dropout (Dropout)            (None, 1280)              0         \n",
            "_________________________________________________________________\n",
            "dense (Dense)                (None, 5)                 6405      \n",
            "=================================================================\n",
            "Total params: 3,419,429\n",
            "Trainable params: 6,405\n",
            "Non-trainable params: 3,413,024\n",
            "_________________________________________________________________\n",
            "None\n",
            "Epoch 1/5\n"
          ],
          "name": "stdout"
        },
        {
          "output_type": "stream",
          "text": [
            "/usr/local/lib/python3.7/dist-packages/tensorflow/python/keras/optimizer_v2/optimizer_v2.py:375: UserWarning: The `lr` argument is deprecated, use `learning_rate` instead.\n",
            "  \"The `lr` argument is deprecated, use `learning_rate` instead.\")\n"
          ],
          "name": "stderr"
        },
        {
          "output_type": "stream",
          "text": [
            "103/103 [==============================] - 44s 126ms/step - loss: 0.8457 - accuracy: 0.7876\n",
            "Epoch 2/5\n",
            "103/103 [==============================] - 13s 125ms/step - loss: 0.6570 - accuracy: 0.8920\n",
            "Epoch 3/5\n",
            "103/103 [==============================] - 13s 126ms/step - loss: 0.6261 - accuracy: 0.9114\n",
            "Epoch 4/5\n",
            "103/103 [==============================] - 13s 125ms/step - loss: 0.6028 - accuracy: 0.9214\n",
            "Epoch 5/5\n",
            "103/103 [==============================] - 13s 127ms/step - loss: 0.5922 - accuracy: 0.9314\n"
          ],
          "name": "stdout"
        }
      ]
    },
    {
      "cell_type": "code",
      "metadata": {
        "colab": {
          "base_uri": "https://localhost:8080/"
        },
        "id": "2aNDIsrIrZ5i",
        "outputId": "674fc29d-c11d-438b-e61e-c69269941dc0"
      },
      "source": [
        "loss, accuracy = model.evaluate(test_data)"
      ],
      "execution_count": 8,
      "outputs": [
        {
          "output_type": "stream",
          "text": [
            "12/12 [==============================] - 5s 141ms/step - loss: 0.5972 - accuracy: 0.9346\n"
          ],
          "name": "stdout"
        }
      ]
    },
    {
      "cell_type": "code",
      "metadata": {
        "colab": {
          "base_uri": "https://localhost:8080/"
        },
        "id": "Dhj-gA26rgRY",
        "outputId": "1907c404-3c5f-4b91-c79c-c7e1e5491bc1"
      },
      "source": [
        "model.export(export_dir='/mm_flowers')"
      ],
      "execution_count": 9,
      "outputs": [
        {
          "output_type": "stream",
          "text": [
            "WARNING:absl:For model inputs containing unsupported operations which cannot be quantized, the `inference_input_type` attribute will default to the original type.\n"
          ],
          "name": "stderr"
        }
      ]
    }
  ]
}